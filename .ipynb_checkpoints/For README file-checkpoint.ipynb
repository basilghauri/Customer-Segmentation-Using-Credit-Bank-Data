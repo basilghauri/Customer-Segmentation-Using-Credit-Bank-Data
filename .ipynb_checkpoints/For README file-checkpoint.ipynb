{
 "cells": [
  {
   "cell_type": "markdown",
   "metadata": {},
   "source": [
    "# Customer Segmentation Using Credit Bank Data"
   ]
  },
  {
   "cell_type": "markdown",
   "metadata": {},
   "source": [
    "####  This project comprises of using user data from a german bank to conduct customer segmentation of loans given to people. By conducting customer segmentation we are able to figure out average characteristics of customers issued loans in various categories."
   ]
  },
  {
   "cell_type": "markdown",
   "metadata": {},
   "source": [
    "### Background on \n",
    "\n",
    "#### Context\n",
    "The original dataset contains 1000 entries with 20 categorial/symbolic attributes prepared by Prof. Hofmann. In this dataset, each entry represents a person who takes a credit by a bank. Each person is classified as good or bad credit risks according to the set of attributes. The link to the original dataset can be found below.\n",
    "\n",
    "#### Content\n",
    "It is almost impossible to understand the original dataset due to its complicated system of categories and symbols. Thus, I wrote a small Python script to convert it into a readable CSV file. Several columns are simply ignored, because in my opinion either they are not important or their descriptions are obscure. The selected attributes are:\n",
    "\n",
    "1)Age (numeric)\n",
    "2)Sex (text: male, female)\n",
    "3)Job (numeric: 0 - unskilled and non-resident, 1 - unskilled and resident, 2 - skilled, 3 -   highly skilled)\n",
    "4)Housing (text: own, rent, or free)\n",
    "5)Saving accounts (text - little, moderate, quite rich, rich)\n",
    "6)Checking account (numeric, in DM - Deutsch Mark)\n",
    "7)Credit amount (numeric, in DM)\n",
    "8)Duration (numeric, in month)\n",
    "9)Purpose (text: car, furniture/equipment, radio/TV, domestic appliances, repairs, education,   business, vacation/others)"
   ]
  },
  {
   "cell_type": "code",
   "execution_count": null,
   "metadata": {},
   "outputs": [],
   "source": [
    "# Read data as csv file\n",
    "data=pd.read_csv(\"german_credit_data.csv\")"
   ]
  },
  {
   "cell_type": "markdown",
   "metadata": {},
   "source": [
    "### Make scatterplots of datapoints"
   ]
  },
  {
   "cell_type": "code",
   "execution_count": null,
   "metadata": {},
   "outputs": [],
   "source": [
    "# Function to make scatterplots\n",
    "def scatters(data, h=None, pal=None):\n",
    "    fig, (a, b, c) = plt.subplots(3,1, figsize=(8,14))\n",
    "    sns.scatterplot(x=\"Credit amount\",y=\"Duration\", hue=h, palette=pal, data=data, ax=a)\n",
    "    sns.scatterplot(x=\"Age\",y=\"Credit amount\", hue=h, palette=pal, data=data, ax=b)\n",
    "    sns.scatterplot(x=\"Age\",y=\"Duration\", hue=h, palette=pal, data=data, ax=c)\n",
    "plt.tight_layout()"
   ]
  },
  {
   "cell_type": "code",
   "execution_count": null,
   "metadata": {},
   "outputs": [],
   "source": [
    "# Based on Sex\n",
    "scatters(data, h=\"Sex\")\n",
    "\n",
    "# Based on Job\n",
    "scatters(data, h=\"Job\")"
   ]
  },
  {
   "cell_type": "markdown",
   "metadata": {},
   "source": [
    "### Correlation Heatmap"
   ]
  },
  {
   "cell_type": "code",
   "execution_count": null,
   "metadata": {},
   "outputs": [],
   "source": [
    "\n",
    "corrMatrix=data.corr()\n",
    "sns.heatmap(corrMatrix, annot=True)\n",
    "plt.show()"
   ]
  },
  {
   "cell_type": "markdown",
   "metadata": {},
   "source": [
    "### Regression Plots to further look into correlations"
   ]
  },
  {
   "cell_type": "code",
   "execution_count": null,
   "metadata": {},
   "outputs": [],
   "source": [
    "# Reggression Plot Between Credit Amount and Duration based on Sex\n",
    "sns.lmplot(x=\"Credit amount\",y=\"Duration\", hue=\"Sex\", data=data, palette=\"Set2\", aspect=2)\n",
    "plt.show()"
   ]
  },
  {
   "cell_type": "code",
   "execution_count": null,
   "metadata": {},
   "outputs": [],
   "source": [
    "# Reggression Plot Based on Jobs\n",
    "sns.lmplot(x=\"Credit amount\",y=\"Duration\", hue=\"Job\", data=data, palette=\"Set1\", aspect=2)\n",
    "plt.show()\n"
   ]
  },
  {
   "cell_type": "markdown",
   "metadata": {},
   "source": [
    "### Barplots to Look into Credits Issued"
   ]
  },
  {
   "cell_type": "code",
   "execution_count": null,
   "metadata": {},
   "outputs": [],
   "source": [
    "# Barplots to summarize overall\n",
    "byjob = data.groupby(\"Job\")[\"Age\"].count().rename(\"Number\").reset_index()\n",
    "byjob.sort_values(by=[\"Number\"], ascending=False, inplace=True)\n",
    "\n",
    "plt.figure(figsize=(10,7))\n",
    "bar1 = sns.barplot(x=\"Job\",y=\"Number\",data=byjob)\n",
    "bar1.set_xticklabels(bar1.get_xticklabels())\n",
    "plt.ylabel(\"Number of Credits Issued\")\n",
    "plt.tight_layout()"
   ]
  },
  {
   "cell_type": "code",
   "execution_count": null,
   "metadata": {},
   "outputs": [],
   "source": [
    "bypurpose = data.groupby(\"Purpose\")[\"Age\"].count().rename(\"Number\").reset_index()\n",
    "bypurpose.sort_values(by=[\"Number\"], ascending=False, inplace=True)\n",
    "plt.figure(figsize=(10,7))\n",
    "bar2 = sns.barplot(x=\"Purpose\",y=\"Number\",data=bypurpose)\n",
    "bar2.set_xticklabels(bar2.get_xticklabels(),rotation=90)\n",
    "plt.ylabel(\"Number of Credits Issued\")\n",
    "plt.tight_layout()"
   ]
  },
  {
   "cell_type": "markdown",
   "metadata": {},
   "source": [
    "### Boxplot to look at Outliers and Overall Spread"
   ]
  },
  {
   "cell_type": "code",
   "execution_count": null,
   "metadata": {},
   "outputs": [],
   "source": [
    "# Function to make boxplots\n",
    "def boxplt(x,y,h,r=45):\n",
    "    fig, ax = plt.subplots(figsize=(10,7))\n",
    "    box = sns.boxplot(x=x,y=y, hue=h, data=data)\n",
    "    box.set_xticklabels(box.get_xticklabels(), rotation=90)\n",
    "    fig.subplots_adjust(bottom=0.4)\n",
    "    plt.tight_layout()"
   ]
  },
  {
   "cell_type": "code",
   "execution_count": null,
   "metadata": {},
   "outputs": [],
   "source": [
    "# Boxplots based on Duration and Purpose\n",
    "boxplt(\"Purpose\",\"Duration\",\"Sex\")\n"
   ]
  },
  {
   "cell_type": "code",
   "execution_count": null,
   "metadata": {},
   "outputs": [],
   "source": [
    "# Boxplots Based on Credit amount and Purpose\n",
    "boxplt(\"Purpose\",\"Credit amount\",\"Sex\")"
   ]
  },
  {
   "cell_type": "markdown",
   "metadata": {},
   "source": [
    "### Data Profiling for Overall View"
   ]
  },
  {
   "cell_type": "code",
   "execution_count": null,
   "metadata": {},
   "outputs": [],
   "source": [
    "data.profile_report()"
   ]
  },
  {
   "cell_type": "markdown",
   "metadata": {},
   "source": [
    "##### By looking at the above data report we can see that three variables which are Age, Credit Amount and Duration have a Right Skew."
   ]
  },
  {
   "cell_type": "markdown",
   "metadata": {},
   "source": [
    "### Log Transform Variables which are Right Skewed"
   ]
  },
  {
   "cell_type": "code",
   "execution_count": null,
   "metadata": {},
   "outputs": [],
   "source": [
    "def distributions(df): # This function is to plot histograms of variables that are right skewed\n",
    "    fig, (a, b, c) = plt.subplots(3,1, figsize=(10,7))\n",
    "    sns.distplot(df[\"Age\"], ax=a,color=\"r\")\n",
    "    sns.distplot(df[\"Credit amount\"], ax=b,color=\"g\")\n",
    "    sns.distplot(df[\"Duration\"], ax=c,color=\"b\")\n",
    "    plt.tight_layout()"
   ]
  },
  {
   "cell_type": "code",
   "execution_count": null,
   "metadata": {},
   "outputs": [],
   "source": [
    "distributions(np.log(data[[\"Age\",\"Credit amount\",\"Duration\"]]))"
   ]
  },
  {
   "cell_type": "code",
   "execution_count": null,
   "metadata": {},
   "outputs": [],
   "source": [
    "#Dataset containing Log of these three variables\n",
    "data2=data[[\"Age\",\"Credit amount\",\"Duration\"]]\n",
    "\n",
    "data2_log=np.log(data2)\n",
    "\n",
    "# Scale data\n",
    "scale=StandardScaler()\n",
    "data_sc=scale.fit_transform(data2_log)"
   ]
  },
  {
   "cell_type": "markdown",
   "metadata": {},
   "source": [
    "### How Many Clusters To Seed"
   ]
  },
  {
   "cell_type": "code",
   "execution_count": null,
   "metadata": {},
   "outputs": [],
   "source": [
    "clusters_range = range(2,10)\n",
    "random_range = range(0,20)\n",
    "result=[]\n",
    "for c in clusters_range:\n",
    "    for r in random_range:\n",
    "        clusterer = KMeans(n_clusters=c, random_state=r)\n",
    "        cluster_lab = clusterer.fit_predict(data_sc)\n",
    "        silhouette_avg = silhouette_score(data_sc, cluster_lab)\n",
    "        result.append([c,r,silhouette_avg])\n",
    "\n",
    "result = pd.DataFrame(result, columns=[\"n_clusters\",\"seed\",\"silhouette_score\"])\n",
    "pivot_result = pd.pivot_table(result, index=\"n_clusters\", columns=\"seed\",values=\"silhouette_score\")\n",
    "\n",
    "plt.figure(figsize=(12,7))\n",
    "sns.heatmap(pivot_result, annot=True, linewidths=.5, fmt='.3f', cmap=sns.cm.rocket_r)\n",
    "plt.tight_layout()"
   ]
  },
  {
   "cell_type": "markdown",
   "metadata": {},
   "source": [
    "#### By looking at the heatmap above we can determine that two or three clusters will be ideal in this scenario."
   ]
  },
  {
   "cell_type": "markdown",
   "metadata": {},
   "source": [
    "## KMeans Clustering"
   ]
  },
  {
   "cell_type": "code",
   "execution_count": null,
   "metadata": {},
   "outputs": [],
   "source": [
    "kmean=KMeans(n_clusters=3, random_state=1).fit(data_sc)\n",
    "labels=pd.DataFrame(kmean.labels_)\n",
    "data_clustered=clustered=data2.assign(Cluster=labels)"
   ]
  },
  {
   "cell_type": "markdown",
   "metadata": {},
   "source": [
    "### Show Clusters as Scatterplots"
   ]
  },
  {
   "cell_type": "code",
   "execution_count": null,
   "metadata": {},
   "outputs": [],
   "source": [
    "scatters(data_clustered,\"Cluster\")"
   ]
  },
  {
   "cell_type": "markdown",
   "metadata": {},
   "source": [
    "## Clusters Divided in Groups"
   ]
  },
  {
   "cell_type": "code",
   "execution_count": null,
   "metadata": {},
   "outputs": [],
   "source": [
    "grouped_cluster=data_clustered.groupby([\"Cluster\"]).mean().round(2)\n",
    "print(grouped_cluster)"
   ]
  },
  {
   "attachments": {
    "Credit%20Bank%20Groups.PNG": {
     "image/png": "[encoded data removed]"
    }
   },
   "cell_type": "markdown",
   "metadata": {},
   "source": [
    "![Credit%20Bank%20Groups.PNG](attachment:Credit%20Bank%20Groups.PNG)"
   ]
  }
 ],
 "metadata": {
  "kernelspec": {
   "display_name": "Python 3",
   "language": "python",
   "name": "python3"
  },
  "language_info": {
   "codemirror_mode": {
    "name": "ipython",
    "version": 3
   },
   "file_extension": ".py",
   "mimetype": "text/x-python",
   "name": "python",
   "nbconvert_exporter": "python",
   "pygments_lexer": "ipython3",
   "version": "3.7.6"
  }
 },
 "nbformat": 4,
 "nbformat_minor": 4
}
